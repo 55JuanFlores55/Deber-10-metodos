{
 "cells": [
  {
   "cell_type": "code",
   "execution_count": 1,
   "id": "18d95028-4d9d-4a09-9d74-86141ba2f38d",
   "metadata": {},
   "outputs": [
    {
     "name": "stdout",
     "output_type": "stream",
     "text": [
      "A * B =\n",
      " [[-4 10]\n",
      " [ 5 15]]\n"
     ]
    }
   ],
   "source": [
    "#Ejercicio 1 multiplicaciones matriz matriz\n",
    "import numpy as np\n",
    "\n",
    "# Definir matrices\n",
    "A = np.array([[2, -3], [3, 1]])\n",
    "B = np.array([[1, 5], [2, 0]])\n",
    "\n",
    "# Multiplicación matriz-matriz\n",
    "C = np.dot(A, B)\n",
    "print(\"A * B =\\n\", C)\n",
    "\n"
   ]
  },
  {
   "cell_type": "code",
   "execution_count": 2,
   "id": "31a09bc8-fdbc-4978-8e25-fbd2838554bb",
   "metadata": {},
   "outputs": [
    {
     "name": "stdout",
     "output_type": "stream",
     "text": [
      "A * B =\n",
      " [[ 11   4  -8]\n",
      " [  0  17 -12]]\n"
     ]
    }
   ],
   "source": [
    "import numpy as np\n",
    "\n",
    "# Definir matrices\n",
    "A = np.array([[2, -3], [3, 1]])\n",
    "B = np.array([[1, 5, -4], [-3, 2, 0]])\n",
    "\n",
    "# Multiplicación matriz-matriz\n",
    "C = np.dot(A, B)\n",
    "print(\"A * B =\\n\", C)\n"
   ]
  },
  {
   "cell_type": "code",
   "execution_count": 3,
   "id": "c8b984e7-108c-468c-9b0c-778977e474d0",
   "metadata": {},
   "outputs": [
    {
     "name": "stdout",
     "output_type": "stream",
     "text": [
      "A * B =\n",
      " [[ -1   5  -3]\n",
      " [  3   4 -11]\n",
      " [ -6  -7  -4]]\n"
     ]
    }
   ],
   "source": [
    "import numpy as np\n",
    "\n",
    "# Definir matrices\n",
    "A = np.array([[2, -3, 1], [4, 3, 0], [5, 2, -4]])\n",
    "B = np.array([[0, 1, -2], [1, 0, -1], [2, 3, -2]])\n",
    "\n",
    "# Multiplicación matriz-matriz\n",
    "C = np.dot(A, B)\n",
    "print(\"A * B =\\n\", C)\n"
   ]
  },
  {
   "cell_type": "code",
   "execution_count": 4,
   "id": "58e29373-a66d-4ee5-9d29-9290baa157c3",
   "metadata": {},
   "outputs": [
    {
     "name": "stdout",
     "output_type": "stream",
     "text": [
      "A * B =\n",
      " [[ -2   1]\n",
      " [-14   7]\n",
      " [  6   1]]\n"
     ]
    }
   ],
   "source": [
    "import numpy as np\n",
    "\n",
    "# Definir matrices\n",
    "A = np.array([[2, 1, 2], [-2, 3, 0], [2, -1, 3]])\n",
    "B = np.array([[1, -2], [-4, 1], [0, 2]])\n",
    "\n",
    "# Multiplicación matriz-matriz\n",
    "C = np.dot(A, B)\n",
    "print(\"A * B =\\n\", C)\n"
   ]
  },
  {
   "cell_type": "code",
   "execution_count": 5,
   "id": "581683d1-983c-4611-a8b2-c600557029f2",
   "metadata": {},
   "outputs": [
    {
     "name": "stdout",
     "output_type": "stream",
     "text": [
      "Matriz 1 es singular y no tiene inversa.\n",
      "Matriz 2 es no singular y su inversa es:\n",
      " [[-0.25   0.25   0.25 ]\n",
      " [ 0.625 -0.125 -0.125]\n",
      " [ 0.125 -0.625  0.375]]\n",
      "Matriz 3 es singular y no tiene inversa.\n",
      "Matriz 4 es no singular y su inversa es:\n",
      " [[ 2.50000000e-01 -2.46716228e-17  0.00000000e+00  0.00000000e+00]\n",
      " [-2.14285714e-01  1.42857143e-01 -0.00000000e+00 -0.00000000e+00]\n",
      " [ 1.07142857e-01 -1.57142857e+00  1.00000000e+00 -0.00000000e+00]\n",
      " [-5.00000000e-01  1.00000000e+00 -1.00000000e+00  1.00000000e+00]]\n"
     ]
    }
   ],
   "source": [
    "#Ejercicio 2 Determinar matrices no singulares y su inversa\n",
    "# Definir matrices\n",
    "matrices = [\n",
    "    np.array([[4, 2, 6], [3, 0, 7], [-2, -1, -3]]),\n",
    "    np.array([[1, 2, 0], [2, 1, -1], [3, 1, 1]]),\n",
    "    np.array([[1, 1, -1, 1], [1, 2, -4, -2], [2, 1, 1, 5], [-1, 0, -2, -4]]),\n",
    "    np.array([[4, 0, 0, 0], [6, 7, 0, 0], [9, 11, 1, 0], [5, 4, 1, 1]])\n",
    "]\n",
    "\n",
    "# Determinar cuáles son no singulares y calcular la inversa\n",
    "for i, M in enumerate(matrices):\n",
    "    det = np.linalg.det(M)\n",
    "    if det != 0:\n",
    "        inv = np.linalg.inv(M)\n",
    "        print(f\"Matriz {i+1} es no singular y su inversa es:\\n\", inv)\n",
    "    else:\n",
    "        print(f\"Matriz {i+1} es singular y no tiene inversa.\")\n"
   ]
  },
  {
   "cell_type": "code",
   "execution_count": 6,
   "id": "6a1e5533-989b-4c4d-86dc-52293e92ea4f",
   "metadata": {},
   "outputs": [
    {
     "name": "stdout",
     "output_type": "stream",
     "text": [
      "Solución del primer sistema:\n",
      " [ 2.14285714 -6.85714286 -8.         -6.14285714]\n",
      "Solución del segundo sistema:\n",
      " [1.14285714 1.14285714 2.         1.85714286]\n"
     ]
    }
   ],
   "source": [
    "#Ejercicio 3 sistemas lineales 4x4 \n",
    "# Definir matriz de coeficientes y vectores de términos independientes\n",
    "A = np.array([[1, -2, 2, -1], [1, 0, -1, 1], [2, 1, 3, -4], [0, -1, 1, -1]])\n",
    "b1 = np.array([6, 4, -2, 5])\n",
    "b2 = np.array([1, 1, 2, -1])\n",
    "\n",
    "# Resolver sistemas\n",
    "x1 = np.linalg.solve(A, b1)\n",
    "x2 = np.linalg.solve(A, b2)\n",
    "\n",
    "print(\"Solución del primer sistema:\\n\", x1)\n",
    "print(\"Solución del segundo sistema:\\n\", x2)\n"
   ]
  },
  {
   "cell_type": "code",
   "execution_count": 7,
   "id": "54eb425a-cd45-42b1-bb17-2cf111623561",
   "metadata": {},
   "outputs": [
    {
     "name": "stdout",
     "output_type": "stream",
     "text": [
      "Valores de α que hacen la matriz singular: [-1.50000000000000, 2.00000000000000]\n"
     ]
    }
   ],
   "source": [
    "#Ejercicio 4 Encontrar valores que hagan que la matriz sea singular\n",
    "import sympy as sp\n",
    "\n",
    "# Definir la variable simbólica\n",
    "alpha = sp.symbols('alpha')\n",
    "\n",
    "# Definir la matriz\n",
    "A = sp.Matrix([\n",
    "    [1, -1, alpha],\n",
    "    [2, 2, 1],\n",
    "    [0, alpha, -3/2]\n",
    "])\n",
    "\n",
    "# Calcular el determinante\n",
    "det_A = A.det()\n",
    "\n",
    "# Resolver la ecuación det(A) = 0\n",
    "singular_values = sp.solve(det_A, alpha)\n",
    "\n",
    "print(\"Valores de α que hacen la matriz singular:\", singular_values)\n",
    "\n"
   ]
  },
  {
   "cell_type": "code",
   "execution_count": 15,
   "id": "dc14f42d-7a02-4e6d-a272-996a29be5e94",
   "metadata": {},
   "outputs": [
    {
     "name": "stdout",
     "output_type": "stream",
     "text": [
      "Solución del sistema a: [-3.  3.  1.]\n",
      "Solución del sistema b: [ 0.5 -4.5  3.5]\n"
     ]
    }
   ],
   "source": [
    "#Ejercicio 5 sistemas lineales\n",
    "import numpy as np\n",
    "\n",
    "# Función para realizar la descomposición LU\n",
    "def lu_decomposition(A):\n",
    "    n = A.shape[0]\n",
    "    L = np.eye(n)\n",
    "    U = A.copy()\n",
    "\n",
    "    for i in range(n):\n",
    "        for j in range(i+1, n):\n",
    "            L[j, i] = U[j, i] / U[i, i]\n",
    "            U[j] = U[j] - L[j, i] * U[i]\n",
    "\n",
    "    return L, U\n",
    "\n",
    "# Función para resolver Ly = b mediante sustitución hacia adelante\n",
    "def forward_substitution(L, b):\n",
    "    n = L.shape[0]\n",
    "    y = np.zeros(n)\n",
    "    \n",
    "    for i in range(n):\n",
    "        y[i] = b[i] - np.dot(L[i, :i], y[:i])\n",
    "        \n",
    "    return y\n",
    "\n",
    "# Función para resolver Ux = y mediante sustitución hacia atrás\n",
    "def backward_substitution(U, y):\n",
    "    n = U.shape[0]\n",
    "    x = np.zeros(n)\n",
    "    \n",
    "    for i in range(n-1, -1, -1):\n",
    "        x[i] = (y[i] - np.dot(U[i, i+1:], x[i+1:])) / U[i, i]\n",
    "        \n",
    "    return x\n",
    "\n",
    "# Función principal para resolver el sistema Ax = b usando descomposición LU\n",
    "def solve_lu(A, b):\n",
    "    L, U = lu_decomposition(A)\n",
    "    y = forward_substitution(L, b)\n",
    "    x = backward_substitution(U, y)\n",
    "    return x\n",
    "\n",
    "# Definimos las matrices A y los vectores b para cada sistema:\n",
    "A_list = [\n",
    "    np.array([[1, 0, 0], [2, 1, 0], [-1, 0, 1]], dtype=float),\n",
    "    np.array([[2, 0, 0], [-1, 1, 0], [3, 2, -1]], dtype=float)\n",
    "]\n",
    "\n",
    "B_list = [\n",
    "    np.array([[2, 3, -1], [0, -2, 1], [0, 0, 3]], dtype=float),\n",
    "    np.array([[1, 1, 1], [0, 1, 2], [0, 0, 1]], dtype=float)\n",
    "]\n",
    "\n",
    "b_list = [\n",
    "    np.array([2, -1, 1], dtype=float),\n",
    "    np.array([-1, 3, 0], dtype=float)\n",
    "]\n",
    "\n",
    "# Crear matrices A adecuadas combinando A y B\n",
    "A_combined = [A @ B for A, B in zip(A_list, B_list)]\n",
    "\n",
    "# Resolución de los sistemas:\n",
    "solutions = [solve_lu(A, b) for A, b in zip(A_combined, b_list)]\n",
    "\n",
    "# Imprimir las soluciones\n",
    "for i, solution in enumerate(solutions):\n",
    "    print(f\"Solución del sistema {chr(97+i)}: {solution}\")\n",
    "\n",
    "\n"
   ]
  },
  {
   "cell_type": "code",
   "execution_count": 8,
   "id": "461674fc-8ad6-419f-a330-b6ca4cb5c00d",
   "metadata": {},
   "outputs": [
    {
     "name": "stdout",
     "output_type": "stream",
     "text": [
      "Matriz 1:\n",
      "L:\n",
      " [[ 1.          0.          0.        ]\n",
      " [ 0.66666667  1.          0.        ]\n",
      " [ 1.         -0.          1.        ]]\n",
      "U:\n",
      " [[ 3.  3.  9.]\n",
      " [ 0. -3. -5.]\n",
      " [ 0.  0. -4.]]\n",
      "Matriz 2:\n",
      "L:\n",
      " [[ 1.          0.          0.        ]\n",
      " [-0.68685567  1.          0.        ]\n",
      " [ 0.32603093 -0.21424728  1.        ]]\n",
      "U:\n",
      " [[ 3.104      -7.013       0.014     ]\n",
      " [ 0.         -0.72091881 -7.00338402]\n",
      " [ 0.          0.          1.59897957]]\n",
      "Matriz 3:\n",
      "L:\n",
      " [[ 1.          0.          0.          0.        ]\n",
      " [ 0.          1.          0.          0.        ]\n",
      " [ 1.          0.66666667  1.          0.        ]\n",
      " [ 0.5        -0.5         0.375       1.        ]]\n",
      "U:\n",
      " [[ 2.          0.          0.          0.        ]\n",
      " [ 0.         -3.          0.5         0.        ]\n",
      " [ 0.          0.          0.66666667  1.        ]\n",
      " [ 0.          0.          0.         -0.375     ]]\n",
      "Matriz 4:\n",
      "L:\n",
      " [[ 1.          0.          0.          0.        ]\n",
      " [-0.66790072  1.          0.          0.        ]\n",
      " [ 0.36118536  0.14002434  1.          0.        ]\n",
      " [-0.16601644 -0.37924771 -0.5112737   1.        ]]\n",
      "U:\n",
      " [[ 6.0235      7.          0.         -4.1561    ]\n",
      " [ 0.         10.67530506  0.         -1.57856219]\n",
      " [ 0.          0.         -2.1732      6.91885959]\n",
      " [ 0.          0.          0.          2.24878393]]\n"
     ]
    }
   ],
   "source": [
    "#Ejercicio 6 Descomposición LU\n",
    "from scipy.linalg import lu\n",
    "\n",
    "# Definir matrices\n",
    "matrices = [\n",
    "    np.array([[2, -1, 1], [3, 3, 9], [3, 3, 5]]),\n",
    "    np.array([[1.012, -2.132, 3.104], [-2.132, 4.096, -7.013], [3.104, -7.013, 0.014]]),\n",
    "    np.array([[2, 0, 0, 0], [1, 1.5, 0, 0], [0, -3, 0.5, 0], [2, -2, 1, 1]]),\n",
    "    np.array([[2.1756, 4.0231, -2.1732, 5.1967], [-4.0231, 6.0000, 0, 1.1973], [-1.0000, -5.2107, 1.1111, 0], [6.0235, 7.0000, 0, -4.1561]])\n",
    "]\n",
    "\n",
    "# Factorización LU\n",
    "for i, M in enumerate(matrices):\n",
    "    P, L, U = lu(M)\n",
    "    print(f\"Matriz {i+1}:\")\n",
    "    print(\"L:\\n\", L)\n",
    "    print(\"U:\\n\", U)\n"
   ]
  },
  {
   "cell_type": "code",
   "execution_count": 13,
   "id": "f4a5d5ac-35c5-48f0-8d89-6a01fed62e37",
   "metadata": {},
   "outputs": [
    {
     "name": "stdout",
     "output_type": "stream",
     "text": [
      "Solución del sistema a: [ 1.  2. -1.]\n",
      "Solución del sistema b: [1. 1. 1.]\n",
      "Solución del sistema c: [ 1.5  2.  -1.2  3. ]\n",
      "Solución del sistema d: [2.9398512  0.0706777  5.67773512 4.37981223]\n"
     ]
    }
   ],
   "source": [
    "#Ejercicio 7 Modificar el algoritmo de eliminación Gaussiana\n",
    "import numpy as np\n",
    "\n",
    "# Función para realizar la descomposición LU\n",
    "def lu_decomposition(A):\n",
    "    n = A.shape[0]\n",
    "    L = np.eye(n)  # Inicializar L como matriz identidad\n",
    "    U = A.copy()  # Copiar A en U\n",
    "\n",
    "    for i in range(n):\n",
    "        for j in range(i+1, n):\n",
    "            L[j, i] = U[j, i] / U[i, i]  # Calcular el factor L\n",
    "            U[j] = U[j] - L[j, i] * U[i]  # Actualizar la fila j de U\n",
    "\n",
    "    return L, U\n",
    "\n",
    "# Función para resolver Ly = b mediante sustitución hacia adelante\n",
    "def forward_substitution(L, b):\n",
    "    n = L.shape[0]\n",
    "    y = np.zeros(n)\n",
    "    \n",
    "    for i in range(n):\n",
    "        y[i] = b[i] - np.dot(L[i, :i], y[:i])\n",
    "        \n",
    "    return y\n",
    "\n",
    "# Función para resolver Ux = y mediante sustitución hacia atrás\n",
    "def backward_substitution(U, y):\n",
    "    n = U.shape[0]\n",
    "    x = np.zeros(n)\n",
    "    \n",
    "    for i in range(n-1, -1, -1):\n",
    "        x[i] = (y[i] - np.dot(U[i, i+1:], x[i+1:])) / U[i, i]\n",
    "        \n",
    "    return x\n",
    "\n",
    "# Función principal para resolver el sistema Ax = b usando descomposición LU\n",
    "def solve_lu(A, b):\n",
    "    L, U = lu_decomposition(A)\n",
    "    y = forward_substitution(L, b)\n",
    "    x = backward_substitution(U, y)\n",
    "    return x\n",
    "\n",
    "# Definimos las matrices A y los vectores b para cada sistema:\n",
    "A_list = [\n",
    "    np.array([[2, -1, 1], [3, 3, 9], [3, 3, 5]], dtype=float),\n",
    "    np.array([[1.012, -2.132, 3.104], [-2.132, 4.096, -7.013], [3.104, -7.013, 0.014]], dtype=float),\n",
    "    np.array([[2, 0, 0, 0], [1, 1.5, 0, 0], [0, -3, 0.5, 0], [2, -2, 1, 1]], dtype=float),\n",
    "    np.array([[2.1756, 4.0231, -2.1732, 5.1967], [-4.0231, 6.0000, 0, 1.1973], [-1.0000, -5.2107, 1.1111, 0], [6.0235, 7.0000, 0, -4.1561]], dtype=float)\n",
    "]\n",
    "\n",
    "b_list = [\n",
    "    np.array([-1, 0, 4], dtype=float),\n",
    "    np.array([1.984, -5.049, -3.895], dtype=float),\n",
    "    np.array([3, 4.5, -6.6, 0.8], dtype=float),\n",
    "    np.array([17.102, -6.1593, 3.0004, 0], dtype=float)\n",
    "]\n",
    "\n",
    "# Resolución de los sistemas:\n",
    "solutions = [solve_lu(A, b) for A, b in zip(A_list, b_list)]\n",
    "\n",
    "# Imprimir las soluciones\n",
    "for i, solution in enumerate(solutions):\n",
    "    print(f\"Solución del sistema {chr(97+i)}: {solution}\")\n",
    "\n"
   ]
  },
  {
   "cell_type": "code",
   "execution_count": null,
   "id": "3fd7d5bd-3af6-4454-943d-dd3bf78acfdc",
   "metadata": {},
   "outputs": [],
   "source": []
  }
 ],
 "metadata": {
  "kernelspec": {
   "display_name": "Python 3 (ipykernel)",
   "language": "python",
   "name": "python3"
  },
  "language_info": {
   "codemirror_mode": {
    "name": "ipython",
    "version": 3
   },
   "file_extension": ".py",
   "mimetype": "text/x-python",
   "name": "python",
   "nbconvert_exporter": "python",
   "pygments_lexer": "ipython3",
   "version": "3.11.7"
  }
 },
 "nbformat": 4,
 "nbformat_minor": 5
}
